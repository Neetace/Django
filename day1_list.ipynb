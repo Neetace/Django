{
 "cells": [
  {
   "cell_type": "code",
   "execution_count": 14,
   "id": "9585385b-e2d4-412d-b423-c8c3ee3fcb56",
   "metadata": {
    "scrolled": true
   },
   "outputs": [
    {
     "name": "stdout",
     "output_type": "stream",
     "text": [
      "Hello \n",
      " world\n",
      "5\n"
     ]
    },
    {
     "data": {
      "text/plain": [
       "7"
      ]
     },
     "execution_count": 14,
     "metadata": {},
     "output_type": "execute_result"
    }
   ],
   "source": [
    "# double quotes in string \n",
    "\"I am on the road to the track\" # to display this string write print(\"...\")\n",
    "print(\"Hello \\n world\")\n",
    "print(len('Hello'))\n",
    "len(\"HEy you\")\n"
   ]
  },
  {
   "cell_type": "code",
   "execution_count": 17,
   "id": "3e97f2b3-d651-4020-a3f0-37d728066499",
   "metadata": {},
   "outputs": [],
   "source": [
    "# List \n",
    "# list is the ordered sequences which holds variety of object types\n",
    "# [] brackets and commons are used to seperate objects in lists like [1,2,3,4]\n",
    "# List can be NESTED. It support indexing and slicing \n"
   ]
  },
  {
   "cell_type": "code",
   "execution_count": 38,
   "id": "44ed5d68-a569-450a-9ee4-c7dfbd707407",
   "metadata": {},
   "outputs": [],
   "source": [
    "# mixed list\n",
    "my_list= [\"Nitesh\", 25.5,81, True]"
   ]
  },
  {
   "cell_type": "code",
   "execution_count": 39,
   "id": "7955d34b-caa4-48a2-b77a-cdacedf8e704",
   "metadata": {},
   "outputs": [
    {
     "name": "stdout",
     "output_type": "stream",
     "text": [
      "['Nitesh', 25.5, 81, True]\n"
     ]
    },
    {
     "data": {
      "text/plain": [
       "4"
      ]
     },
     "execution_count": 39,
     "metadata": {},
     "output_type": "execute_result"
    }
   ],
   "source": [
    "print(my_list)\n",
    "len(my_list)"
   ]
  },
  {
   "cell_type": "code",
   "execution_count": 40,
   "id": "2ca78855-e609-4b71-9611-2c4ed91a24fd",
   "metadata": {},
   "outputs": [
    {
     "data": {
      "text/plain": [
       "True"
      ]
     },
     "execution_count": 40,
     "metadata": {},
     "output_type": "execute_result"
    }
   ],
   "source": [
    "#indexing\n",
    "my_list[3]"
   ]
  },
  {
   "cell_type": "code",
   "execution_count": 44,
   "id": "b63a3409-beec-4c78-86d3-8d8155cf5d11",
   "metadata": {},
   "outputs": [
    {
     "data": {
      "text/plain": [
       "[25.5, 81, True]"
      ]
     },
     "execution_count": 44,
     "metadata": {},
     "output_type": "execute_result"
    }
   ],
   "source": [
    "#slicing \n",
    "my_list[1:]"
   ]
  },
  {
   "cell_type": "code",
   "execution_count": 45,
   "id": "d7e12154-c373-4ae2-a28f-dc04d9716d7d",
   "metadata": {},
   "outputs": [],
   "source": [
    "one_list = ['one','two']\n",
    "two_list = ['three','four']"
   ]
  },
  {
   "cell_type": "code",
   "execution_count": 46,
   "id": "2da1917b-6edc-4a24-8695-fe423d2e6993",
   "metadata": {},
   "outputs": [],
   "source": [
    "new_list = one_list+ two_list"
   ]
  },
  {
   "cell_type": "code",
   "execution_count": 47,
   "id": "c59043fd-3a91-4c00-af65-b97a74026bfd",
   "metadata": {},
   "outputs": [
    {
     "data": {
      "text/plain": [
       "['one', 'two', 'three', 'four']"
      ]
     },
     "execution_count": 47,
     "metadata": {},
     "output_type": "execute_result"
    }
   ],
   "source": [
    "new_list"
   ]
  },
  {
   "cell_type": "code",
   "execution_count": 52,
   "id": "5f05119b-6254-4af8-a916-1b7869ae4351",
   "metadata": {},
   "outputs": [],
   "source": [
    "# muitate list means to change the value of list\n",
    "new_list [0] = 'index 0 is change'"
   ]
  },
  {
   "cell_type": "code",
   "execution_count": 53,
   "id": "f2afec0c-1b7a-4411-9ab1-3178c65543e0",
   "metadata": {},
   "outputs": [
    {
     "data": {
      "text/plain": [
       "['index 0 is change', 'two', 'three', 'four']"
      ]
     },
     "execution_count": 53,
     "metadata": {},
     "output_type": "execute_result"
    }
   ],
   "source": [
    "new_list"
   ]
  },
  {
   "cell_type": "code",
   "execution_count": 60,
   "id": "4c9f37f8-da15-4e67-8eb4-321eda599760",
   "metadata": {},
   "outputs": [],
   "source": [
    "new_list.extend('six')\n",
    "new_list.append('seven')"
   ]
  },
  {
   "cell_type": "code",
   "execution_count": 61,
   "id": "31b32082-3149-4aee-9925-e838ad06492b",
   "metadata": {},
   "outputs": [
    {
     "data": {
      "text/plain": [
       "['index 0 is change',\n",
       " 'two',\n",
       " 'three',\n",
       " 'four',\n",
       " 's',\n",
       " 'i',\n",
       " 'x',\n",
       " 's',\n",
       " 'i',\n",
       " 'x',\n",
       " 'seven',\n",
       " 's',\n",
       " 'i',\n",
       " 'x',\n",
       " 'seven']"
      ]
     },
     "execution_count": 61,
     "metadata": {},
     "output_type": "execute_result"
    }
   ],
   "source": [
    "new_list"
   ]
  },
  {
   "cell_type": "code",
   "execution_count": 62,
   "id": "37640359-c86a-4a0f-b0df-d5b56651e817",
   "metadata": {},
   "outputs": [
    {
     "data": {
      "text/plain": [
       "'seven'"
      ]
     },
     "execution_count": 62,
     "metadata": {},
     "output_type": "execute_result"
    }
   ],
   "source": [
    "new_list.pop()"
   ]
  },
  {
   "cell_type": "code",
   "execution_count": 63,
   "id": "6d8420b7-62e3-4587-997d-60bb9d70a37b",
   "metadata": {},
   "outputs": [
    {
     "data": {
      "text/plain": [
       "['index 0 is change',\n",
       " 'two',\n",
       " 'three',\n",
       " 'four',\n",
       " 's',\n",
       " 'i',\n",
       " 'x',\n",
       " 's',\n",
       " 'i',\n",
       " 'x',\n",
       " 'seven',\n",
       " 's',\n",
       " 'i',\n",
       " 'x']"
      ]
     },
     "execution_count": 63,
     "metadata": {},
     "output_type": "execute_result"
    }
   ],
   "source": [
    "new_list"
   ]
  },
  {
   "cell_type": "code",
   "execution_count": 64,
   "id": "403fb25a-e28d-4960-b8a1-9388603fea89",
   "metadata": {},
   "outputs": [],
   "source": [
    "popped_item = new_list.pop()"
   ]
  },
  {
   "cell_type": "code",
   "execution_count": 66,
   "id": "1d6ac859-a5dc-4f21-a29c-056865d6f2e8",
   "metadata": {},
   "outputs": [
    {
     "data": {
      "text/plain": [
       "'x'"
      ]
     },
     "execution_count": 66,
     "metadata": {},
     "output_type": "execute_result"
    }
   ],
   "source": [
    "popped_item"
   ]
  },
  {
   "cell_type": "code",
   "execution_count": 67,
   "id": "82344da9-ae46-4b33-901d-2a3573631761",
   "metadata": {},
   "outputs": [
    {
     "data": {
      "text/plain": [
       "'index 0 is change'"
      ]
     },
     "execution_count": 67,
     "metadata": {},
     "output_type": "execute_result"
    }
   ],
   "source": [
    "#pop removes the item from the list \n",
    "new_list.pop(0)"
   ]
  },
  {
   "cell_type": "code",
   "execution_count": 68,
   "id": "5ac6a4fd-04cf-4106-9a30-c3d3e8c0cc5a",
   "metadata": {},
   "outputs": [
    {
     "data": {
      "text/plain": [
       "['two', 'three', 'four', 's', 'i', 'x', 's', 'i', 'x', 'seven', 's', 'i']"
      ]
     },
     "execution_count": 68,
     "metadata": {},
     "output_type": "execute_result"
    }
   ],
   "source": [
    "new_list"
   ]
  },
  {
   "cell_type": "code",
   "execution_count": 69,
   "id": "f29969a0-97e0-41c9-9fc2-5f45ac06a036",
   "metadata": {},
   "outputs": [],
   "source": [
    "#sorted list\n",
    "new_list = ['a','s','d','f']\n",
    "num_list= ['3','4','7','1']"
   ]
  },
  {
   "cell_type": "code",
   "execution_count": 70,
   "id": "509b5835-9338-40c1-9c5d-815f13aec2d8",
   "metadata": {},
   "outputs": [],
   "source": [
    "new_list.sort()"
   ]
  },
  {
   "cell_type": "code",
   "execution_count": 71,
   "id": "4d27f194-688e-40b9-99c3-9fbbbaa8fa0a",
   "metadata": {},
   "outputs": [
    {
     "data": {
      "text/plain": [
       "['a', 'd', 'f', 's']"
      ]
     },
     "execution_count": 71,
     "metadata": {},
     "output_type": "execute_result"
    }
   ],
   "source": [
    "new_list"
   ]
  },
  {
   "cell_type": "code",
   "execution_count": 1,
   "id": "81336c59-1e2d-4fc7-a78f-14769dde4af7",
   "metadata": {},
   "outputs": [
    {
     "ename": "NameError",
     "evalue": "name 'num_list' is not defined",
     "output_type": "error",
     "traceback": [
      "\u001b[1;31m---------------------------------------------------------------------------\u001b[0m",
      "\u001b[1;31mNameError\u001b[0m                                 Traceback (most recent call last)",
      "Cell \u001b[1;32mIn[1], line 2\u001b[0m\n\u001b[0;32m      1\u001b[0m \u001b[38;5;66;03m# reverse list\u001b[39;00m\n\u001b[1;32m----> 2\u001b[0m \u001b[43mnum_list\u001b[49m\u001b[38;5;241m.\u001b[39mreverse()\n",
      "\u001b[1;31mNameError\u001b[0m: name 'num_list' is not defined"
     ]
    }
   ],
   "source": [
    "# reverse list\n",
    "num_list.reverse()"
   ]
  },
  {
   "cell_type": "code",
   "execution_count": 73,
   "id": "2948129c-969a-4840-8825-46914c3c47ae",
   "metadata": {},
   "outputs": [
    {
     "data": {
      "text/plain": [
       "['1', '7', '4', '3']"
      ]
     },
     "execution_count": 73,
     "metadata": {},
     "output_type": "execute_result"
    }
   ],
   "source": [
    "num_list"
   ]
  },
  {
   "cell_type": "code",
   "execution_count": null,
   "id": "0286d56b-e50a-49a5-8827-557d7fddb910",
   "metadata": {},
   "outputs": [],
   "source": []
  }
 ],
 "metadata": {
  "kernelspec": {
   "display_name": "Python 3 (ipykernel)",
   "language": "python",
   "name": "python3"
  },
  "language_info": {
   "codemirror_mode": {
    "name": "ipython",
    "version": 3
   },
   "file_extension": ".py",
   "mimetype": "text/x-python",
   "name": "python",
   "nbconvert_exporter": "python",
   "pygments_lexer": "ipython3",
   "version": "3.10.0"
  }
 },
 "nbformat": 4,
 "nbformat_minor": 5
}
